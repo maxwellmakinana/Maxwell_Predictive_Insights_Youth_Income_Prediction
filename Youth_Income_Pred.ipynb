{
 "cells": [
  {
   "cell_type": "code",
   "execution_count": 1,
   "metadata": {},
   "outputs": [],
   "source": [
    "import numpy as np\n",
    "import pandas as pd\n",
    "import matplotlib.pyplot as plt\n",
    "import seaborn as sns\n",
    "import pickle\n",
    "import xgboost as xg\n",
    "import statsmodels.api as sm\n",
    "from sklearn.preprocessing import LabelEncoder\n",
    "from sklearn.model_selection import train_test_split \n",
    "from sklearn.linear_model import RidgeClassifier\n",
    "from sklearn.feature_selection import RFE\n",
    "from sklearn.linear_model import LinearRegression\n",
    "from sklearn import metrics as ms\n",
    "from sklearn.tree import DecisionTreeClassifier\n",
    "from sklearn.ensemble import RandomForestClassifier\n",
    "from statsmodels.stats.outliers_influence import variance_inflation_factor\n",
    "from sklearn.feature_selection import SelectKBest, f_regression"
   ]
  },
  {
   "cell_type": "code",
   "execution_count": 2,
   "metadata": {},
   "outputs": [],
   "source": [
    "df = pd.read_excel('Final_Data.xlsx', sheet_name='Train')"
   ]
  },
  {
   "cell_type": "code",
   "execution_count": 3,
   "metadata": {},
   "outputs": [
    {
     "data": {
      "text/plain": [
       "Index(['Person_id', 'Survey_date', 'Round', 'Status', 'Tenure', 'Geography',\n",
       "       'Province', 'Matric', 'Degree', 'Diploma', 'Higher_Education',\n",
       "       'Schoolquintile', 'Math', 'Mathlit', 'Mathematics', 'Additional_lang',\n",
       "       'Home_lang', 'Language', 'Science', 'Female', 'Sa_citizen', 'Birthyear',\n",
       "       'Birthmonth', 'Target'],\n",
       "      dtype='object')"
      ]
     },
     "execution_count": 3,
     "metadata": {},
     "output_type": "execute_result"
    }
   ],
   "source": [
    "df.columns"
   ]
  },
  {
   "cell_type": "code",
   "execution_count": 4,
   "metadata": {},
   "outputs": [],
   "source": [
    "df.rename(columns = {'Female':'Gender'}, inplace = True)"
   ]
  },
  {
   "cell_type": "code",
   "execution_count": 5,
   "metadata": {},
   "outputs": [],
   "source": [
    "df['Age'] = df['Survey_date'].dt.year - df['Birthyear']"
   ]
  },
  {
   "cell_type": "code",
   "execution_count": 6,
   "metadata": {},
   "outputs": [],
   "source": [
    "df.drop(columns=['Survey_date', 'Round', 'Degree', 'Diploma', 'Math', 'Mathlit','Additional_lang',\n",
    "                 'Home_lang', 'Sa_citizen', 'Birthyear'], inplace=True)"
   ]
  },
  {
   "cell_type": "code",
   "execution_count": 7,
   "metadata": {},
   "outputs": [
    {
     "name": "stdout",
     "output_type": "stream",
     "text": [
      "<class 'pandas.core.frame.DataFrame'>\n",
      "RangeIndex: 4020 entries, 0 to 4019\n",
      "Data columns (total 15 columns):\n",
      " #   Column            Non-Null Count  Dtype  \n",
      "---  ------            --------------  -----  \n",
      " 0   Person_id         4020 non-null   object \n",
      " 1   Status            4020 non-null   object \n",
      " 2   Tenure            2626 non-null   float64\n",
      " 3   Geography         4020 non-null   object \n",
      " 4   Province          4020 non-null   object \n",
      " 5   Matric            4020 non-null   int64  \n",
      " 6   Higher_Education  4020 non-null   int64  \n",
      " 7   Schoolquintile    3367 non-null   float64\n",
      " 8   Mathematics       2350 non-null   object \n",
      " 9   Language          2399 non-null   object \n",
      " 10  Science           732 non-null    object \n",
      " 11  Gender            4020 non-null   int64  \n",
      " 12  Birthmonth        4020 non-null   int64  \n",
      " 13  Target            4020 non-null   int64  \n",
      " 14  Age               4020 non-null   int64  \n",
      "dtypes: float64(2), int64(6), object(7)\n",
      "memory usage: 471.2+ KB\n"
     ]
    }
   ],
   "source": [
    "df.info()"
   ]
  },
  {
   "cell_type": "code",
   "execution_count": 8,
   "metadata": {},
   "outputs": [
    {
     "name": "stdout",
     "output_type": "stream",
     "text": [
      "Numeric info for Tenure: \n",
      "\n",
      "Minimum value:  0.0 \n",
      "\n",
      "Median value:  395.0 \n",
      "\n",
      "Maximum value:  3560.0 \n",
      "\n",
      "Mode value:  0    0.0\n",
      "Name: Tenure, dtype: float64 \n",
      "\n",
      "mean value:  583.0\n"
     ]
    }
   ],
   "source": [
    "print('Numeric info for Tenure: \\n')\n",
    "print('Minimum value: ', df['Tenure'].min(), '\\n')\n",
    "print('Median value: ', df['Tenure'].median(), '\\n')\n",
    "print('Maximum value: ', df['Tenure'].max(), '\\n')\n",
    "print('Mode value: ', df['Tenure'].mode(), '\\n')\n",
    "\n",
    "mean = df['Tenure'].mean()\n",
    "print('mean value: ', mean.round())"
   ]
  },
  {
   "cell_type": "code",
   "execution_count": 9,
   "metadata": {},
   "outputs": [
    {
     "name": "stdout",
     "output_type": "stream",
     "text": [
      "Numeric info for Schoolquintile: \n",
      "\n",
      "Minimum value:  0.0 \n",
      "\n",
      "Median value:  2.0 \n",
      "\n",
      "Maximum value:  5.0 \n",
      "\n",
      "Mode value:  0    0.0\n",
      "Name: Schoolquintile, dtype: float64 \n",
      "\n",
      "mean value:  2.0\n"
     ]
    }
   ],
   "source": [
    "print('Numeric info for Schoolquintile: \\n')\n",
    "print('Minimum value: ', df['Schoolquintile'].min(), '\\n')\n",
    "print('Median value: ', df['Schoolquintile'].median(), '\\n')\n",
    "print('Maximum value: ', df['Schoolquintile'].max(), '\\n')\n",
    "print('Mode value: ', df['Schoolquintile'].mode(), '\\n')\n",
    "\n",
    "mean = df['Schoolquintile'].mean()\n",
    "print('mean value: ', mean.round())"
   ]
  },
  {
   "cell_type": "code",
   "execution_count": 10,
   "metadata": {},
   "outputs": [
    {
     "data": {
      "text/html": [
       "<div>\n",
       "<style scoped>\n",
       "    .dataframe tbody tr th:only-of-type {\n",
       "        vertical-align: middle;\n",
       "    }\n",
       "\n",
       "    .dataframe tbody tr th {\n",
       "        vertical-align: top;\n",
       "    }\n",
       "\n",
       "    .dataframe thead th {\n",
       "        text-align: right;\n",
       "    }\n",
       "</style>\n",
       "<table border=\"1\" class=\"dataframe\">\n",
       "  <thead>\n",
       "    <tr style=\"text-align: right;\">\n",
       "      <th></th>\n",
       "      <th>Person_id</th>\n",
       "      <th>Status</th>\n",
       "      <th>Tenure</th>\n",
       "      <th>Geography</th>\n",
       "      <th>Province</th>\n",
       "      <th>Matric</th>\n",
       "      <th>Higher_Education</th>\n",
       "      <th>Schoolquintile</th>\n",
       "      <th>Mathematics</th>\n",
       "      <th>Language</th>\n",
       "      <th>Science</th>\n",
       "      <th>Gender</th>\n",
       "      <th>Birthmonth</th>\n",
       "      <th>Target</th>\n",
       "      <th>Age</th>\n",
       "    </tr>\n",
       "  </thead>\n",
       "  <tbody>\n",
       "    <tr>\n",
       "      <th>0</th>\n",
       "      <td>Id_eqz61wz7yn</td>\n",
       "      <td>studying</td>\n",
       "      <td>583.0</td>\n",
       "      <td>Rural</td>\n",
       "      <td>Mpumalanga</td>\n",
       "      <td>1</td>\n",
       "      <td>0</td>\n",
       "      <td>3.0</td>\n",
       "      <td>0 - 29 %</td>\n",
       "      <td>50 - 59 %</td>\n",
       "      <td>0 - 29 %</td>\n",
       "      <td>1</td>\n",
       "      <td>5</td>\n",
       "      <td>0</td>\n",
       "      <td>22</td>\n",
       "    </tr>\n",
       "    <tr>\n",
       "      <th>1</th>\n",
       "      <td>Id_kj5k3g5wud</td>\n",
       "      <td>unemployed</td>\n",
       "      <td>427.0</td>\n",
       "      <td>Suburb</td>\n",
       "      <td>North West</td>\n",
       "      <td>1</td>\n",
       "      <td>0</td>\n",
       "      <td>1.0</td>\n",
       "      <td>30 - 39 %</td>\n",
       "      <td>40 - 49 %</td>\n",
       "      <td>30 - 39 %</td>\n",
       "      <td>1</td>\n",
       "      <td>4</td>\n",
       "      <td>1</td>\n",
       "      <td>34</td>\n",
       "    </tr>\n",
       "    <tr>\n",
       "      <th>2</th>\n",
       "      <td>Id_9h0isj38y4</td>\n",
       "      <td>other</td>\n",
       "      <td>583.0</td>\n",
       "      <td>Urban</td>\n",
       "      <td>Free State</td>\n",
       "      <td>1</td>\n",
       "      <td>0</td>\n",
       "      <td>2.0</td>\n",
       "      <td>30 - 39 %</td>\n",
       "      <td>40 - 49 %</td>\n",
       "      <td>30 - 39 %</td>\n",
       "      <td>0</td>\n",
       "      <td>7</td>\n",
       "      <td>1</td>\n",
       "      <td>26</td>\n",
       "    </tr>\n",
       "    <tr>\n",
       "      <th>3</th>\n",
       "      <td>Id_5ch3zwpdef</td>\n",
       "      <td>unemployed</td>\n",
       "      <td>810.0</td>\n",
       "      <td>Urban</td>\n",
       "      <td>Eastern Cape</td>\n",
       "      <td>0</td>\n",
       "      <td>0</td>\n",
       "      <td>0.0</td>\n",
       "      <td>unknown</td>\n",
       "      <td>unknown</td>\n",
       "      <td>unknown</td>\n",
       "      <td>0</td>\n",
       "      <td>1</td>\n",
       "      <td>0</td>\n",
       "      <td>22</td>\n",
       "    </tr>\n",
       "    <tr>\n",
       "      <th>4</th>\n",
       "      <td>Id_g4elxibjej</td>\n",
       "      <td>studying</td>\n",
       "      <td>583.0</td>\n",
       "      <td>Urban</td>\n",
       "      <td>Limpopo</td>\n",
       "      <td>0</td>\n",
       "      <td>0</td>\n",
       "      <td>0.0</td>\n",
       "      <td>unknown</td>\n",
       "      <td>unknown</td>\n",
       "      <td>unknown</td>\n",
       "      <td>1</td>\n",
       "      <td>12</td>\n",
       "      <td>0</td>\n",
       "      <td>25</td>\n",
       "    </tr>\n",
       "    <tr>\n",
       "      <th>...</th>\n",
       "      <td>...</td>\n",
       "      <td>...</td>\n",
       "      <td>...</td>\n",
       "      <td>...</td>\n",
       "      <td>...</td>\n",
       "      <td>...</td>\n",
       "      <td>...</td>\n",
       "      <td>...</td>\n",
       "      <td>...</td>\n",
       "      <td>...</td>\n",
       "      <td>...</td>\n",
       "      <td>...</td>\n",
       "      <td>...</td>\n",
       "      <td>...</td>\n",
       "      <td>...</td>\n",
       "    </tr>\n",
       "    <tr>\n",
       "      <th>4015</th>\n",
       "      <td>Id_3lxfvtmbkr</td>\n",
       "      <td>wage employed</td>\n",
       "      <td>273.0</td>\n",
       "      <td>Rural</td>\n",
       "      <td>Limpopo</td>\n",
       "      <td>1</td>\n",
       "      <td>0</td>\n",
       "      <td>2.0</td>\n",
       "      <td>40 - 49 %</td>\n",
       "      <td>50 - 59 %</td>\n",
       "      <td>unknown</td>\n",
       "      <td>1</td>\n",
       "      <td>1</td>\n",
       "      <td>0</td>\n",
       "      <td>23</td>\n",
       "    </tr>\n",
       "    <tr>\n",
       "      <th>4016</th>\n",
       "      <td>Id_u3uc3v9pts</td>\n",
       "      <td>unemployed</td>\n",
       "      <td>401.0</td>\n",
       "      <td>Urban</td>\n",
       "      <td>Gauteng</td>\n",
       "      <td>1</td>\n",
       "      <td>1</td>\n",
       "      <td>2.0</td>\n",
       "      <td>40 - 49 %</td>\n",
       "      <td>60 - 69 %</td>\n",
       "      <td>unknown</td>\n",
       "      <td>0</td>\n",
       "      <td>3</td>\n",
       "      <td>0</td>\n",
       "      <td>24</td>\n",
       "    </tr>\n",
       "    <tr>\n",
       "      <th>4017</th>\n",
       "      <td>Id_enkksj5q5r</td>\n",
       "      <td>unemployed</td>\n",
       "      <td>2287.0</td>\n",
       "      <td>Urban</td>\n",
       "      <td>KwaZulu-Natal</td>\n",
       "      <td>0</td>\n",
       "      <td>0</td>\n",
       "      <td>1.0</td>\n",
       "      <td>unknown</td>\n",
       "      <td>unknown</td>\n",
       "      <td>unknown</td>\n",
       "      <td>1</td>\n",
       "      <td>10</td>\n",
       "      <td>0</td>\n",
       "      <td>32</td>\n",
       "    </tr>\n",
       "    <tr>\n",
       "      <th>4018</th>\n",
       "      <td>Id_3rtpd7kc1g</td>\n",
       "      <td>studying</td>\n",
       "      <td>583.0</td>\n",
       "      <td>Urban</td>\n",
       "      <td>Eastern Cape</td>\n",
       "      <td>1</td>\n",
       "      <td>0</td>\n",
       "      <td>3.0</td>\n",
       "      <td>40 - 49 %</td>\n",
       "      <td>60 - 69 %</td>\n",
       "      <td>50 - 59 %</td>\n",
       "      <td>1</td>\n",
       "      <td>1</td>\n",
       "      <td>1</td>\n",
       "      <td>22</td>\n",
       "    </tr>\n",
       "    <tr>\n",
       "      <th>4019</th>\n",
       "      <td>Id_d8hb0i7g0r</td>\n",
       "      <td>unemployed</td>\n",
       "      <td>243.0</td>\n",
       "      <td>Urban</td>\n",
       "      <td>KwaZulu-Natal</td>\n",
       "      <td>0</td>\n",
       "      <td>0</td>\n",
       "      <td>0.0</td>\n",
       "      <td>unknown</td>\n",
       "      <td>unknown</td>\n",
       "      <td>unknown</td>\n",
       "      <td>0</td>\n",
       "      <td>10</td>\n",
       "      <td>1</td>\n",
       "      <td>20</td>\n",
       "    </tr>\n",
       "  </tbody>\n",
       "</table>\n",
       "<p>4020 rows × 15 columns</p>\n",
       "</div>"
      ],
      "text/plain": [
       "          Person_id         Status  Tenure Geography       Province  Matric  \\\n",
       "0     Id_eqz61wz7yn       studying   583.0     Rural     Mpumalanga       1   \n",
       "1     Id_kj5k3g5wud     unemployed   427.0    Suburb     North West       1   \n",
       "2     Id_9h0isj38y4          other   583.0     Urban     Free State       1   \n",
       "3     Id_5ch3zwpdef     unemployed   810.0     Urban   Eastern Cape       0   \n",
       "4     Id_g4elxibjej       studying   583.0     Urban        Limpopo       0   \n",
       "...             ...            ...     ...       ...            ...     ...   \n",
       "4015  Id_3lxfvtmbkr  wage employed   273.0     Rural        Limpopo       1   \n",
       "4016  Id_u3uc3v9pts     unemployed   401.0     Urban        Gauteng       1   \n",
       "4017  Id_enkksj5q5r     unemployed  2287.0     Urban  KwaZulu-Natal       0   \n",
       "4018  Id_3rtpd7kc1g       studying   583.0     Urban   Eastern Cape       1   \n",
       "4019  Id_d8hb0i7g0r     unemployed   243.0     Urban  KwaZulu-Natal       0   \n",
       "\n",
       "      Higher_Education  Schoolquintile Mathematics   Language    Science  \\\n",
       "0                    0             3.0    0 - 29 %  50 - 59 %   0 - 29 %   \n",
       "1                    0             1.0   30 - 39 %  40 - 49 %  30 - 39 %   \n",
       "2                    0             2.0   30 - 39 %  40 - 49 %  30 - 39 %   \n",
       "3                    0             0.0     unknown    unknown    unknown   \n",
       "4                    0             0.0     unknown    unknown    unknown   \n",
       "...                ...             ...         ...        ...        ...   \n",
       "4015                 0             2.0   40 - 49 %  50 - 59 %    unknown   \n",
       "4016                 1             2.0   40 - 49 %  60 - 69 %    unknown   \n",
       "4017                 0             1.0     unknown    unknown    unknown   \n",
       "4018                 0             3.0   40 - 49 %  60 - 69 %  50 - 59 %   \n",
       "4019                 0             0.0     unknown    unknown    unknown   \n",
       "\n",
       "      Gender  Birthmonth  Target  Age  \n",
       "0          1           5       0   22  \n",
       "1          1           4       1   34  \n",
       "2          0           7       1   26  \n",
       "3          0           1       0   22  \n",
       "4          1          12       0   25  \n",
       "...      ...         ...     ...  ...  \n",
       "4015       1           1       0   23  \n",
       "4016       0           3       0   24  \n",
       "4017       1          10       0   32  \n",
       "4018       1           1       1   22  \n",
       "4019       0          10       1   20  \n",
       "\n",
       "[4020 rows x 15 columns]"
      ]
     },
     "execution_count": 10,
     "metadata": {},
     "output_type": "execute_result"
    }
   ],
   "source": [
    "df['Tenure'].fillna(583.0, inplace=True)\n",
    "df['Mathematics'].fillna('unknown', inplace=True)\n",
    "df['Schoolquintile'].fillna(2.0, inplace=True)\n",
    "df['Language'].fillna('unknown', inplace=True)\n",
    "df['Science'].fillna('unknown', inplace=True)\n",
    "df"
   ]
  },
  {
   "cell_type": "code",
   "execution_count": 11,
   "metadata": {},
   "outputs": [
    {
     "data": {
      "text/plain": [
       "Person_id           0\n",
       "Status              0\n",
       "Tenure              0\n",
       "Geography           0\n",
       "Province            0\n",
       "Matric              0\n",
       "Higher_Education    0\n",
       "Schoolquintile      0\n",
       "Mathematics         0\n",
       "Language            0\n",
       "Science             0\n",
       "Gender              0\n",
       "Birthmonth          0\n",
       "Target              0\n",
       "Age                 0\n",
       "dtype: int64"
      ]
     },
     "execution_count": 11,
     "metadata": {},
     "output_type": "execute_result"
    }
   ],
   "source": [
    "df.isnull().sum()"
   ]
  },
  {
   "cell_type": "code",
   "execution_count": 12,
   "metadata": {},
   "outputs": [
    {
     "name": "stderr",
     "output_type": "stream",
     "text": [
      "/var/folders/dt/6wlrtxmd13nfmwf1shtvq5t40000gq/T/ipykernel_96641/1665899112.py:1: FutureWarning: The default value of numeric_only in DataFrame.skew is deprecated. In a future version, it will default to False. In addition, specifying 'numeric_only=None' is deprecated. Select only valid columns or specify the value of numeric_only to silence this warning.\n",
      "  df.skew()\n"
     ]
    },
    {
     "data": {
      "text/plain": [
       "Tenure              1.964297\n",
       "Matric             -0.571430\n",
       "Higher_Education    2.924900\n",
       "Schoolquintile      0.308931\n",
       "Gender             -0.259975\n",
       "Birthmonth          0.302052\n",
       "Target              1.025746\n",
       "Age                 1.208625\n",
       "dtype: float64"
      ]
     },
     "execution_count": 12,
     "metadata": {},
     "output_type": "execute_result"
    }
   ],
   "source": [
    "df.skew()"
   ]
  },
  {
   "cell_type": "code",
   "execution_count": 13,
   "metadata": {},
   "outputs": [
    {
     "name": "stdout",
     "output_type": "stream",
     "text": [
      "<class 'pandas.core.frame.DataFrame'>\n",
      "RangeIndex: 4020 entries, 0 to 4019\n",
      "Data columns (total 15 columns):\n",
      " #   Column            Non-Null Count  Dtype  \n",
      "---  ------            --------------  -----  \n",
      " 0   Person_id         4020 non-null   object \n",
      " 1   Status            4020 non-null   object \n",
      " 2   Tenure            4020 non-null   float64\n",
      " 3   Geography         4020 non-null   object \n",
      " 4   Province          4020 non-null   object \n",
      " 5   Matric            4020 non-null   int64  \n",
      " 6   Higher_Education  4020 non-null   int64  \n",
      " 7   Schoolquintile    4020 non-null   float64\n",
      " 8   Mathematics       4020 non-null   object \n",
      " 9   Language          4020 non-null   object \n",
      " 10  Science           4020 non-null   object \n",
      " 11  Gender            4020 non-null   int64  \n",
      " 12  Birthmonth        4020 non-null   int64  \n",
      " 13  Target            4020 non-null   int64  \n",
      " 14  Age               4020 non-null   int64  \n",
      "dtypes: float64(2), int64(6), object(7)\n",
      "memory usage: 471.2+ KB\n"
     ]
    }
   ],
   "source": [
    "df.info()"
   ]
  },
  {
   "cell_type": "code",
   "execution_count": 14,
   "metadata": {},
   "outputs": [],
   "source": [
    "df = df.astype({'Person_id':'string', 'Status':'string', 'Tenure':'float', 'Geography':'string', \n",
    "                'Province':'string', 'Higher_Education':'float', 'Schoolquintile':'float', 'Mathematics':'string',\n",
    "                'Language':'string', 'Science':'string', 'Gender':'float', 'Birthmonth':'float','Target':'float',\n",
    "                'Age':'float'})"
   ]
  },
  {
   "cell_type": "code",
   "execution_count": 15,
   "metadata": {},
   "outputs": [
    {
     "data": {
      "text/plain": [
       "1.0    2269\n",
       "0.0    1751\n",
       "Name: Gender, dtype: int64"
      ]
     },
     "execution_count": 15,
     "metadata": {},
     "output_type": "execute_result"
    }
   ],
   "source": [
    "df['Gender'].value_counts()"
   ]
  },
  {
   "cell_type": "code",
   "execution_count": 16,
   "metadata": {},
   "outputs": [
    {
     "data": {
      "text/plain": [
       "unemployed                1775\n",
       "studying                   966\n",
       "wage employed              763\n",
       "other                      278\n",
       "self employed              200\n",
       "employment programme        31\n",
       "wage and self employed       7\n",
       "Name: Status, dtype: Int64"
      ]
     },
     "execution_count": 16,
     "metadata": {},
     "output_type": "execute_result"
    }
   ],
   "source": [
    "df['Status'].value_counts()"
   ]
  },
  {
   "cell_type": "code",
   "execution_count": 17,
   "metadata": {},
   "outputs": [
    {
     "data": {
      "text/plain": [
       "2.0    1157\n",
       "0.0    1075\n",
       "3.0     739\n",
       "1.0     445\n",
       "4.0     329\n",
       "5.0     275\n",
       "Name: Schoolquintile, dtype: int64"
      ]
     },
     "execution_count": 17,
     "metadata": {},
     "output_type": "execute_result"
    }
   ],
   "source": [
    "df['Schoolquintile'].value_counts()"
   ]
  },
  {
   "cell_type": "code",
   "execution_count": 18,
   "metadata": {},
   "outputs": [
    {
     "data": {
      "text/plain": [
       "0.0    3669\n",
       "1.0     351\n",
       "Name: Higher_Education, dtype: int64"
      ]
     },
     "execution_count": 18,
     "metadata": {},
     "output_type": "execute_result"
    }
   ],
   "source": [
    "df['Higher_Education'].value_counts()"
   ]
  },
  {
   "cell_type": "code",
   "execution_count": 19,
   "metadata": {},
   "outputs": [
    {
     "data": {
      "text/plain": [
       "Urban     2797\n",
       "Rural      803\n",
       "Suburb     420\n",
       "Name: Geography, dtype: Int64"
      ]
     },
     "execution_count": 19,
     "metadata": {},
     "output_type": "execute_result"
    }
   ],
   "source": [
    "df['Geography'].value_counts()"
   ]
  },
  {
   "cell_type": "markdown",
   "metadata": {},
   "source": [
    "# EDA"
   ]
  },
  {
   "cell_type": "code",
   "execution_count": 20,
   "metadata": {},
   "outputs": [],
   "source": [
    "from pivottablejs import pivot_ui"
   ]
  },
  {
   "cell_type": "code",
   "execution_count": 21,
   "metadata": {},
   "outputs": [
    {
     "data": {
      "text/html": [
       "<div>\n",
       "<style scoped>\n",
       "    .dataframe tbody tr th:only-of-type {\n",
       "        vertical-align: middle;\n",
       "    }\n",
       "\n",
       "    .dataframe tbody tr th {\n",
       "        vertical-align: top;\n",
       "    }\n",
       "\n",
       "    .dataframe thead th {\n",
       "        text-align: right;\n",
       "    }\n",
       "</style>\n",
       "<table border=\"1\" class=\"dataframe\">\n",
       "  <thead>\n",
       "    <tr style=\"text-align: right;\">\n",
       "      <th></th>\n",
       "      <th>Person_id</th>\n",
       "      <th>Status</th>\n",
       "      <th>Tenure</th>\n",
       "      <th>Geography</th>\n",
       "      <th>Province</th>\n",
       "      <th>Matric</th>\n",
       "      <th>Higher_Education</th>\n",
       "      <th>Schoolquintile</th>\n",
       "      <th>Mathematics</th>\n",
       "      <th>Language</th>\n",
       "      <th>Science</th>\n",
       "      <th>Gender</th>\n",
       "      <th>Birthmonth</th>\n",
       "      <th>Target</th>\n",
       "      <th>Age</th>\n",
       "    </tr>\n",
       "  </thead>\n",
       "  <tbody>\n",
       "    <tr>\n",
       "      <th>0</th>\n",
       "      <td>Id_eqz61wz7yn</td>\n",
       "      <td>studying</td>\n",
       "      <td>583.0</td>\n",
       "      <td>Rural</td>\n",
       "      <td>Mpumalanga</td>\n",
       "      <td>1</td>\n",
       "      <td>0.0</td>\n",
       "      <td>3.0</td>\n",
       "      <td>0 - 29 %</td>\n",
       "      <td>50 - 59 %</td>\n",
       "      <td>0 - 29 %</td>\n",
       "      <td>1.0</td>\n",
       "      <td>5.0</td>\n",
       "      <td>0.0</td>\n",
       "      <td>22.0</td>\n",
       "    </tr>\n",
       "    <tr>\n",
       "      <th>1</th>\n",
       "      <td>Id_kj5k3g5wud</td>\n",
       "      <td>unemployed</td>\n",
       "      <td>427.0</td>\n",
       "      <td>Suburb</td>\n",
       "      <td>North West</td>\n",
       "      <td>1</td>\n",
       "      <td>0.0</td>\n",
       "      <td>1.0</td>\n",
       "      <td>30 - 39 %</td>\n",
       "      <td>40 - 49 %</td>\n",
       "      <td>30 - 39 %</td>\n",
       "      <td>1.0</td>\n",
       "      <td>4.0</td>\n",
       "      <td>1.0</td>\n",
       "      <td>34.0</td>\n",
       "    </tr>\n",
       "    <tr>\n",
       "      <th>2</th>\n",
       "      <td>Id_9h0isj38y4</td>\n",
       "      <td>other</td>\n",
       "      <td>583.0</td>\n",
       "      <td>Urban</td>\n",
       "      <td>Free State</td>\n",
       "      <td>1</td>\n",
       "      <td>0.0</td>\n",
       "      <td>2.0</td>\n",
       "      <td>30 - 39 %</td>\n",
       "      <td>40 - 49 %</td>\n",
       "      <td>30 - 39 %</td>\n",
       "      <td>0.0</td>\n",
       "      <td>7.0</td>\n",
       "      <td>1.0</td>\n",
       "      <td>26.0</td>\n",
       "    </tr>\n",
       "    <tr>\n",
       "      <th>3</th>\n",
       "      <td>Id_5ch3zwpdef</td>\n",
       "      <td>unemployed</td>\n",
       "      <td>810.0</td>\n",
       "      <td>Urban</td>\n",
       "      <td>Eastern Cape</td>\n",
       "      <td>0</td>\n",
       "      <td>0.0</td>\n",
       "      <td>0.0</td>\n",
       "      <td>unknown</td>\n",
       "      <td>unknown</td>\n",
       "      <td>unknown</td>\n",
       "      <td>0.0</td>\n",
       "      <td>1.0</td>\n",
       "      <td>0.0</td>\n",
       "      <td>22.0</td>\n",
       "    </tr>\n",
       "    <tr>\n",
       "      <th>4</th>\n",
       "      <td>Id_g4elxibjej</td>\n",
       "      <td>studying</td>\n",
       "      <td>583.0</td>\n",
       "      <td>Urban</td>\n",
       "      <td>Limpopo</td>\n",
       "      <td>0</td>\n",
       "      <td>0.0</td>\n",
       "      <td>0.0</td>\n",
       "      <td>unknown</td>\n",
       "      <td>unknown</td>\n",
       "      <td>unknown</td>\n",
       "      <td>1.0</td>\n",
       "      <td>12.0</td>\n",
       "      <td>0.0</td>\n",
       "      <td>25.0</td>\n",
       "    </tr>\n",
       "    <tr>\n",
       "      <th>...</th>\n",
       "      <td>...</td>\n",
       "      <td>...</td>\n",
       "      <td>...</td>\n",
       "      <td>...</td>\n",
       "      <td>...</td>\n",
       "      <td>...</td>\n",
       "      <td>...</td>\n",
       "      <td>...</td>\n",
       "      <td>...</td>\n",
       "      <td>...</td>\n",
       "      <td>...</td>\n",
       "      <td>...</td>\n",
       "      <td>...</td>\n",
       "      <td>...</td>\n",
       "      <td>...</td>\n",
       "    </tr>\n",
       "    <tr>\n",
       "      <th>4015</th>\n",
       "      <td>Id_3lxfvtmbkr</td>\n",
       "      <td>wage employed</td>\n",
       "      <td>273.0</td>\n",
       "      <td>Rural</td>\n",
       "      <td>Limpopo</td>\n",
       "      <td>1</td>\n",
       "      <td>0.0</td>\n",
       "      <td>2.0</td>\n",
       "      <td>40 - 49 %</td>\n",
       "      <td>50 - 59 %</td>\n",
       "      <td>unknown</td>\n",
       "      <td>1.0</td>\n",
       "      <td>1.0</td>\n",
       "      <td>0.0</td>\n",
       "      <td>23.0</td>\n",
       "    </tr>\n",
       "    <tr>\n",
       "      <th>4016</th>\n",
       "      <td>Id_u3uc3v9pts</td>\n",
       "      <td>unemployed</td>\n",
       "      <td>401.0</td>\n",
       "      <td>Urban</td>\n",
       "      <td>Gauteng</td>\n",
       "      <td>1</td>\n",
       "      <td>1.0</td>\n",
       "      <td>2.0</td>\n",
       "      <td>40 - 49 %</td>\n",
       "      <td>60 - 69 %</td>\n",
       "      <td>unknown</td>\n",
       "      <td>0.0</td>\n",
       "      <td>3.0</td>\n",
       "      <td>0.0</td>\n",
       "      <td>24.0</td>\n",
       "    </tr>\n",
       "    <tr>\n",
       "      <th>4017</th>\n",
       "      <td>Id_enkksj5q5r</td>\n",
       "      <td>unemployed</td>\n",
       "      <td>2287.0</td>\n",
       "      <td>Urban</td>\n",
       "      <td>KwaZulu-Natal</td>\n",
       "      <td>0</td>\n",
       "      <td>0.0</td>\n",
       "      <td>1.0</td>\n",
       "      <td>unknown</td>\n",
       "      <td>unknown</td>\n",
       "      <td>unknown</td>\n",
       "      <td>1.0</td>\n",
       "      <td>10.0</td>\n",
       "      <td>0.0</td>\n",
       "      <td>32.0</td>\n",
       "    </tr>\n",
       "    <tr>\n",
       "      <th>4018</th>\n",
       "      <td>Id_3rtpd7kc1g</td>\n",
       "      <td>studying</td>\n",
       "      <td>583.0</td>\n",
       "      <td>Urban</td>\n",
       "      <td>Eastern Cape</td>\n",
       "      <td>1</td>\n",
       "      <td>0.0</td>\n",
       "      <td>3.0</td>\n",
       "      <td>40 - 49 %</td>\n",
       "      <td>60 - 69 %</td>\n",
       "      <td>50 - 59 %</td>\n",
       "      <td>1.0</td>\n",
       "      <td>1.0</td>\n",
       "      <td>1.0</td>\n",
       "      <td>22.0</td>\n",
       "    </tr>\n",
       "    <tr>\n",
       "      <th>4019</th>\n",
       "      <td>Id_d8hb0i7g0r</td>\n",
       "      <td>unemployed</td>\n",
       "      <td>243.0</td>\n",
       "      <td>Urban</td>\n",
       "      <td>KwaZulu-Natal</td>\n",
       "      <td>0</td>\n",
       "      <td>0.0</td>\n",
       "      <td>0.0</td>\n",
       "      <td>unknown</td>\n",
       "      <td>unknown</td>\n",
       "      <td>unknown</td>\n",
       "      <td>0.0</td>\n",
       "      <td>10.0</td>\n",
       "      <td>1.0</td>\n",
       "      <td>20.0</td>\n",
       "    </tr>\n",
       "  </tbody>\n",
       "</table>\n",
       "<p>4020 rows × 15 columns</p>\n",
       "</div>"
      ],
      "text/plain": [
       "          Person_id         Status  Tenure Geography       Province  Matric  \\\n",
       "0     Id_eqz61wz7yn       studying   583.0     Rural     Mpumalanga       1   \n",
       "1     Id_kj5k3g5wud     unemployed   427.0    Suburb     North West       1   \n",
       "2     Id_9h0isj38y4          other   583.0     Urban     Free State       1   \n",
       "3     Id_5ch3zwpdef     unemployed   810.0     Urban   Eastern Cape       0   \n",
       "4     Id_g4elxibjej       studying   583.0     Urban        Limpopo       0   \n",
       "...             ...            ...     ...       ...            ...     ...   \n",
       "4015  Id_3lxfvtmbkr  wage employed   273.0     Rural        Limpopo       1   \n",
       "4016  Id_u3uc3v9pts     unemployed   401.0     Urban        Gauteng       1   \n",
       "4017  Id_enkksj5q5r     unemployed  2287.0     Urban  KwaZulu-Natal       0   \n",
       "4018  Id_3rtpd7kc1g       studying   583.0     Urban   Eastern Cape       1   \n",
       "4019  Id_d8hb0i7g0r     unemployed   243.0     Urban  KwaZulu-Natal       0   \n",
       "\n",
       "      Higher_Education  Schoolquintile Mathematics   Language    Science  \\\n",
       "0                  0.0             3.0    0 - 29 %  50 - 59 %   0 - 29 %   \n",
       "1                  0.0             1.0   30 - 39 %  40 - 49 %  30 - 39 %   \n",
       "2                  0.0             2.0   30 - 39 %  40 - 49 %  30 - 39 %   \n",
       "3                  0.0             0.0     unknown    unknown    unknown   \n",
       "4                  0.0             0.0     unknown    unknown    unknown   \n",
       "...                ...             ...         ...        ...        ...   \n",
       "4015               0.0             2.0   40 - 49 %  50 - 59 %    unknown   \n",
       "4016               1.0             2.0   40 - 49 %  60 - 69 %    unknown   \n",
       "4017               0.0             1.0     unknown    unknown    unknown   \n",
       "4018               0.0             3.0   40 - 49 %  60 - 69 %  50 - 59 %   \n",
       "4019               0.0             0.0     unknown    unknown    unknown   \n",
       "\n",
       "      Gender  Birthmonth  Target   Age  \n",
       "0        1.0         5.0     0.0  22.0  \n",
       "1        1.0         4.0     1.0  34.0  \n",
       "2        0.0         7.0     1.0  26.0  \n",
       "3        0.0         1.0     0.0  22.0  \n",
       "4        1.0        12.0     0.0  25.0  \n",
       "...      ...         ...     ...   ...  \n",
       "4015     1.0         1.0     0.0  23.0  \n",
       "4016     0.0         3.0     0.0  24.0  \n",
       "4017     1.0        10.0     0.0  32.0  \n",
       "4018     1.0         1.0     1.0  22.0  \n",
       "4019     0.0        10.0     1.0  20.0  \n",
       "\n",
       "[4020 rows x 15 columns]"
      ]
     },
     "execution_count": 21,
     "metadata": {},
     "output_type": "execute_result"
    }
   ],
   "source": [
    "df"
   ]
  },
  {
   "cell_type": "code",
   "execution_count": 22,
   "metadata": {},
   "outputs": [
    {
     "data": {
      "text/html": [
       "\n",
       "        <iframe\n",
       "            width=\"100%\"\n",
       "            height=\"500\"\n",
       "            src=\"pivottablejs.html\"\n",
       "            frameborder=\"0\"\n",
       "            allowfullscreen\n",
       "            \n",
       "        ></iframe>\n",
       "        "
      ],
      "text/plain": [
       "<IPython.lib.display.IFrame at 0x7fb2620ddcf0>"
      ]
     },
     "execution_count": 22,
     "metadata": {},
     "output_type": "execute_result"
    }
   ],
   "source": [
    "pivot_ui(df)"
   ]
  },
  {
   "cell_type": "markdown",
   "metadata": {},
   "source": [
    "## Correlation"
   ]
  },
  {
   "cell_type": "code",
   "execution_count": 23,
   "metadata": {},
   "outputs": [
    {
     "name": "stderr",
     "output_type": "stream",
     "text": [
      "/var/folders/dt/6wlrtxmd13nfmwf1shtvq5t40000gq/T/ipykernel_96641/1479007483.py:2: FutureWarning: The default value of numeric_only in DataFrame.corr is deprecated. In a future version, it will default to False. Select only valid columns or specify the value of numeric_only to silence this warning.\n",
      "  sns.heatmap(df.corr(), annot=True, fmt='.2f', linewidths= 0.5)\n"
     ]
    },
    {
     "data": {
      "image/png": "[encoded data removed]",
      "text/plain": [
       "<Figure size 2000x1600 with 2 Axes>"
      ]
     },
     "metadata": {},
     "output_type": "display_data"
    }
   ],
   "source": [
    "plt.figure(figsize=(20, 16))\n",
    "sns.heatmap(df.corr(), annot=True, fmt='.2f', linewidths= 0.5)\n",
    "plt.show()"
   ]
  },
  {
   "cell_type": "code",
   "execution_count": 24,
   "metadata": {},
   "outputs": [],
   "source": [
    "label_encoder = LabelEncoder()\n",
    "\n",
    "# Iterate over each column in the DataFrame and encode the values\n",
    "for col in df.columns:\n",
    "    df[col] = label_encoder.fit_transform(df[col])"
   ]
  },
  {
   "cell_type": "code",
   "execution_count": 25,
   "metadata": {},
   "outputs": [
    {
     "data": {
      "text/html": [
       "<div>\n",
       "<style scoped>\n",
       "    .dataframe tbody tr th:only-of-type {\n",
       "        vertical-align: middle;\n",
       "    }\n",
       "\n",
       "    .dataframe tbody tr th {\n",
       "        vertical-align: top;\n",
       "    }\n",
       "\n",
       "    .dataframe thead th {\n",
       "        text-align: right;\n",
       "    }\n",
       "</style>\n",
       "<table border=\"1\" class=\"dataframe\">\n",
       "  <thead>\n",
       "    <tr style=\"text-align: right;\">\n",
       "      <th></th>\n",
       "      <th>Person_id</th>\n",
       "      <th>Status</th>\n",
       "      <th>Tenure</th>\n",
       "      <th>Geography</th>\n",
       "      <th>Province</th>\n",
       "      <th>Matric</th>\n",
       "      <th>Higher_Education</th>\n",
       "      <th>Schoolquintile</th>\n",
       "      <th>Mathematics</th>\n",
       "      <th>Language</th>\n",
       "      <th>Science</th>\n",
       "      <th>Gender</th>\n",
       "      <th>Birthmonth</th>\n",
       "      <th>Target</th>\n",
       "      <th>Age</th>\n",
       "    </tr>\n",
       "  </thead>\n",
       "  <tbody>\n",
       "    <tr>\n",
       "      <th>1</th>\n",
       "      <td>2269</td>\n",
       "      <td>4</td>\n",
       "      <td>224</td>\n",
       "      <td>1</td>\n",
       "      <td>6</td>\n",
       "      <td>1</td>\n",
       "      <td>0</td>\n",
       "      <td>1</td>\n",
       "      <td>1</td>\n",
       "      <td>1</td>\n",
       "      <td>1</td>\n",
       "      <td>1</td>\n",
       "      <td>3</td>\n",
       "      <td>1</td>\n",
       "      <td>16</td>\n",
       "    </tr>\n",
       "    <tr>\n",
       "      <th>2</th>\n",
       "      <td>1016</td>\n",
       "      <td>1</td>\n",
       "      <td>283</td>\n",
       "      <td>2</td>\n",
       "      <td>1</td>\n",
       "      <td>1</td>\n",
       "      <td>0</td>\n",
       "      <td>2</td>\n",
       "      <td>1</td>\n",
       "      <td>1</td>\n",
       "      <td>1</td>\n",
       "      <td>0</td>\n",
       "      <td>6</td>\n",
       "      <td>1</td>\n",
       "      <td>8</td>\n",
       "    </tr>\n",
       "    <tr>\n",
       "      <th>9</th>\n",
       "      <td>2510</td>\n",
       "      <td>2</td>\n",
       "      <td>556</td>\n",
       "      <td>0</td>\n",
       "      <td>4</td>\n",
       "      <td>0</td>\n",
       "      <td>0</td>\n",
       "      <td>0</td>\n",
       "      <td>7</td>\n",
       "      <td>6</td>\n",
       "      <td>7</td>\n",
       "      <td>0</td>\n",
       "      <td>3</td>\n",
       "      <td>1</td>\n",
       "      <td>14</td>\n",
       "    </tr>\n",
       "    <tr>\n",
       "      <th>10</th>\n",
       "      <td>1899</td>\n",
       "      <td>1</td>\n",
       "      <td>283</td>\n",
       "      <td>2</td>\n",
       "      <td>2</td>\n",
       "      <td>1</td>\n",
       "      <td>0</td>\n",
       "      <td>2</td>\n",
       "      <td>1</td>\n",
       "      <td>2</td>\n",
       "      <td>2</td>\n",
       "      <td>1</td>\n",
       "      <td>8</td>\n",
       "      <td>1</td>\n",
       "      <td>5</td>\n",
       "    </tr>\n",
       "    <tr>\n",
       "      <th>12</th>\n",
       "      <td>3693</td>\n",
       "      <td>3</td>\n",
       "      <td>283</td>\n",
       "      <td>2</td>\n",
       "      <td>3</td>\n",
       "      <td>1</td>\n",
       "      <td>0</td>\n",
       "      <td>4</td>\n",
       "      <td>4</td>\n",
       "      <td>3</td>\n",
       "      <td>4</td>\n",
       "      <td>0</td>\n",
       "      <td>8</td>\n",
       "      <td>1</td>\n",
       "      <td>5</td>\n",
       "    </tr>\n",
       "    <tr>\n",
       "      <th>...</th>\n",
       "      <td>...</td>\n",
       "      <td>...</td>\n",
       "      <td>...</td>\n",
       "      <td>...</td>\n",
       "      <td>...</td>\n",
       "      <td>...</td>\n",
       "      <td>...</td>\n",
       "      <td>...</td>\n",
       "      <td>...</td>\n",
       "      <td>...</td>\n",
       "      <td>...</td>\n",
       "      <td>...</td>\n",
       "      <td>...</td>\n",
       "      <td>...</td>\n",
       "      <td>...</td>\n",
       "    </tr>\n",
       "    <tr>\n",
       "      <th>4006</th>\n",
       "      <td>574</td>\n",
       "      <td>1</td>\n",
       "      <td>283</td>\n",
       "      <td>2</td>\n",
       "      <td>1</td>\n",
       "      <td>1</td>\n",
       "      <td>0</td>\n",
       "      <td>5</td>\n",
       "      <td>3</td>\n",
       "      <td>2</td>\n",
       "      <td>7</td>\n",
       "      <td>1</td>\n",
       "      <td>9</td>\n",
       "      <td>1</td>\n",
       "      <td>4</td>\n",
       "    </tr>\n",
       "    <tr>\n",
       "      <th>4007</th>\n",
       "      <td>237</td>\n",
       "      <td>1</td>\n",
       "      <td>283</td>\n",
       "      <td>2</td>\n",
       "      <td>2</td>\n",
       "      <td>1</td>\n",
       "      <td>1</td>\n",
       "      <td>3</td>\n",
       "      <td>1</td>\n",
       "      <td>3</td>\n",
       "      <td>0</td>\n",
       "      <td>0</td>\n",
       "      <td>2</td>\n",
       "      <td>1</td>\n",
       "      <td>7</td>\n",
       "    </tr>\n",
       "    <tr>\n",
       "      <th>4012</th>\n",
       "      <td>2071</td>\n",
       "      <td>2</td>\n",
       "      <td>393</td>\n",
       "      <td>2</td>\n",
       "      <td>0</td>\n",
       "      <td>0</td>\n",
       "      <td>0</td>\n",
       "      <td>0</td>\n",
       "      <td>7</td>\n",
       "      <td>6</td>\n",
       "      <td>7</td>\n",
       "      <td>0</td>\n",
       "      <td>2</td>\n",
       "      <td>1</td>\n",
       "      <td>5</td>\n",
       "    </tr>\n",
       "    <tr>\n",
       "      <th>4018</th>\n",
       "      <td>429</td>\n",
       "      <td>3</td>\n",
       "      <td>283</td>\n",
       "      <td>2</td>\n",
       "      <td>0</td>\n",
       "      <td>1</td>\n",
       "      <td>0</td>\n",
       "      <td>3</td>\n",
       "      <td>2</td>\n",
       "      <td>3</td>\n",
       "      <td>3</td>\n",
       "      <td>1</td>\n",
       "      <td>0</td>\n",
       "      <td>1</td>\n",
       "      <td>4</td>\n",
       "    </tr>\n",
       "    <tr>\n",
       "      <th>4019</th>\n",
       "      <td>1455</td>\n",
       "      <td>4</td>\n",
       "      <td>146</td>\n",
       "      <td>2</td>\n",
       "      <td>3</td>\n",
       "      <td>0</td>\n",
       "      <td>0</td>\n",
       "      <td>0</td>\n",
       "      <td>7</td>\n",
       "      <td>6</td>\n",
       "      <td>7</td>\n",
       "      <td>0</td>\n",
       "      <td>9</td>\n",
       "      <td>1</td>\n",
       "      <td>2</td>\n",
       "    </tr>\n",
       "  </tbody>\n",
       "</table>\n",
       "<p>1093 rows × 15 columns</p>\n",
       "</div>"
      ],
      "text/plain": [
       "      Person_id  Status  Tenure  Geography  Province  Matric  \\\n",
       "1          2269       4     224          1         6       1   \n",
       "2          1016       1     283          2         1       1   \n",
       "9          2510       2     556          0         4       0   \n",
       "10         1899       1     283          2         2       1   \n",
       "12         3693       3     283          2         3       1   \n",
       "...         ...     ...     ...        ...       ...     ...   \n",
       "4006        574       1     283          2         1       1   \n",
       "4007        237       1     283          2         2       1   \n",
       "4012       2071       2     393          2         0       0   \n",
       "4018        429       3     283          2         0       1   \n",
       "4019       1455       4     146          2         3       0   \n",
       "\n",
       "      Higher_Education  Schoolquintile  Mathematics  Language  Science  \\\n",
       "1                    0               1            1         1        1   \n",
       "2                    0               2            1         1        1   \n",
       "9                    0               0            7         6        7   \n",
       "10                   0               2            1         2        2   \n",
       "12                   0               4            4         3        4   \n",
       "...                ...             ...          ...       ...      ...   \n",
       "4006                 0               5            3         2        7   \n",
       "4007                 1               3            1         3        0   \n",
       "4012                 0               0            7         6        7   \n",
       "4018                 0               3            2         3        3   \n",
       "4019                 0               0            7         6        7   \n",
       "\n",
       "      Gender  Birthmonth  Target  Age  \n",
       "1          1           3       1   16  \n",
       "2          0           6       1    8  \n",
       "9          0           3       1   14  \n",
       "10         1           8       1    5  \n",
       "12         0           8       1    5  \n",
       "...      ...         ...     ...  ...  \n",
       "4006       1           9       1    4  \n",
       "4007       0           2       1    7  \n",
       "4012       0           2       1    5  \n",
       "4018       1           0       1    4  \n",
       "4019       0           9       1    2  \n",
       "\n",
       "[1093 rows x 15 columns]"
      ]
     },
     "execution_count": 25,
     "metadata": {},
     "output_type": "execute_result"
    }
   ],
   "source": [
    "df[df.Target==1]"
   ]
  },
  {
   "cell_type": "code",
   "execution_count": 26,
   "metadata": {},
   "outputs": [
    {
     "name": "stdout",
     "output_type": "stream",
     "text": [
      "Training set shape: (3216, 5) (3216,)\n"
     ]
    }
   ],
   "source": [
    "X = df[[\n",
    "    'Status', 'Geography', 'Higher_Education', 'Matric', 'Gender'\n",
    "]]\n",
    "\n",
    "# X = df.drop('Target', axis=1)\n",
    "y = df['Target']\n",
    "\n",
    "X_train, X_test, y_train, y_test = train_test_split(X, y, test_size=0.2, random_state=42)\n",
    "\n",
    "print(\"Training set shape:\", X_train.shape, y_train.shape)"
   ]
  },
  {
   "cell_type": "markdown",
   "metadata": {},
   "source": [
    "## Univariate Selection"
   ]
  },
  {
   "cell_type": "code",
   "execution_count": 27,
   "metadata": {},
   "outputs": [
    {
     "name": "stdout",
     "output_type": "stream",
     "text": [
      "[300.19500392   9.51898868  18.22015933  15.79404137  39.73709698]\n",
      "            Feature       Score\n",
      "1         Geography    9.518989\n",
      "3            Matric   15.794041\n",
      "2  Higher_Education   18.220159\n",
      "4            Gender   39.737097\n",
      "0            Status  300.195004\n"
     ]
    }
   ],
   "source": [
    "x = X_train\n",
    "y = y_train\n",
    "\n",
    "# Create a DataFrame to store the column names of the feature matrix X_train\n",
    "names = pd.DataFrame(X_train.columns)\n",
    "\n",
    "model = SelectKBest(score_func=f_regression, k=4)\n",
    "results = model.fit(x, y)\n",
    "\n",
    "print(results.scores_)\n",
    "# print(results.pvalues_)\n",
    "\n",
    "results_df = pd.DataFrame(results.scores_)\n",
    "# Concat and name columns\n",
    "scored = pd.concat([names, results_df], axis=1)\n",
    "scored.columns = [\"Feature\", \"Score\"]\n",
    "scored.sort_values(by=['Score'], inplace=True)  # Sort by score in ascending order\n",
    "\n",
    "print(scored)"
   ]
  },
  {
   "cell_type": "markdown",
   "metadata": {},
   "source": [
    "## Univariate Selection"
   ]
  },
  {
   "cell_type": "code",
   "execution_count": 28,
   "metadata": {},
   "outputs": [
    {
     "name": "stdout",
     "output_type": "stream",
     "text": [
      "[300.19500392   9.51898868  18.22015933  15.79404137  39.73709698]\n",
      "            Feature       Score\n",
      "1         Geography    9.518989\n",
      "3            Matric   15.794041\n",
      "2  Higher_Education   18.220159\n",
      "4            Gender   39.737097\n",
      "0            Status  300.195004\n"
     ]
    }
   ],
   "source": [
    "x = X_train\n",
    "y = y_train\n",
    "\n",
    "# Create a DataFrame to store the column names of the feature matrix X_train\n",
    "names = pd.DataFrame(X_train.columns)\n",
    "\n",
    "model = SelectKBest(score_func=f_regression, k=4)\n",
    "results = model.fit(x, y)\n",
    "\n",
    "print(results.scores_)\n",
    "# print(results.pvalues_)\n",
    "\n",
    "results_df = pd.DataFrame(results.scores_)\n",
    "# Concat and name columns\n",
    "scored = pd.concat([names, results_df], axis=1)\n",
    "scored.columns = [\"Feature\", \"Score\"]\n",
    "scored.sort_values(by=['Score'], inplace=True)  # Sort by score in ascending order\n",
    "\n",
    "print(scored)"
   ]
  },
  {
   "cell_type": "markdown",
   "metadata": {},
   "source": [
    "## Multicollinearity"
   ]
  },
  {
   "cell_type": "code",
   "execution_count": 29,
   "metadata": {},
   "outputs": [
    {
     "name": "stdout",
     "output_type": "stream",
     "text": [
      "           Features       VIF\n",
      "0            Status  4.132224\n",
      "1         Geography  3.458377\n",
      "2  Higher_Education  1.155643\n",
      "3            Matric  2.621180\n",
      "4            Gender  2.163102\n"
     ]
    }
   ],
   "source": [
    "vif = pd.DataFrame()\n",
    "vif['Features'] = X.columns\n",
    "vif['VIF'] = [variance_inflation_factor(X.values, i) for i in range(X.shape[1])]\n",
    "\n",
    "# Check for multicollinearity\n",
    "print(vif)"
   ]
  },
  {
   "cell_type": "markdown",
   "metadata": {},
   "source": [
    "## Backward Feature Selection"
   ]
  },
  {
   "cell_type": "code",
   "execution_count": 30,
   "metadata": {},
   "outputs": [
    {
     "data": {
      "text/plain": [
       "['Status', 'Geography', 'Higher_Education', 'Matric', 'Gender']"
      ]
     },
     "execution_count": 30,
     "metadata": {},
     "output_type": "execute_result"
    }
   ],
   "source": [
    "def backward_regression(X, y,\n",
    "                           initial_list=[], \n",
    "                           threshold_in=0.01, \n",
    "                           threshold_out = 0.05, \n",
    "                           verbose=True):\n",
    "    included=list(X.columns)\n",
    "    while True:\n",
    "        changed=False\n",
    "        model = sm.OLS(y, sm.add_constant(pd.DataFrame(X[included]))).fit()\n",
    "        # use all coefs except intercept\n",
    "        pvalues = model.pvalues.iloc[1:]\n",
    "        worst_pval = pvalues.max() # null if pvalues is empty\n",
    "        if worst_pval > threshold_out:\n",
    "            changed=True\n",
    "            worst_feature = pvalues.idxmax()\n",
    "            included.remove(worst_feature)\n",
    "            if verbose:\n",
    "                print('Drop  with p-value '.format(worst_feature, worst_pval))\n",
    "        if not changed:\n",
    "            break\n",
    "    return included\n",
    "\n",
    "backward_regression(X_train, y_train)"
   ]
  },
  {
   "cell_type": "markdown",
   "metadata": {},
   "source": [
    "## Forward Feature Selection"
   ]
  },
  {
   "cell_type": "code",
   "execution_count": 31,
   "metadata": {},
   "outputs": [
    {
     "name": "stdout",
     "output_type": "stream",
     "text": [
      "Add Status with p-value 0.000000\n",
      "Add Gender with p-value 0.000000\n",
      "Add Matric with p-value 0.000019\n",
      "Add Geography with p-value 0.002930\n",
      "Add Higher_Education with p-value 0.005983\n",
      "Selected features: ['Status', 'Gender', 'Matric', 'Geography', 'Higher_Education']\n"
     ]
    },
    {
     "name": "stderr",
     "output_type": "stream",
     "text": [
      "/var/folders/dt/6wlrtxmd13nfmwf1shtvq5t40000gq/T/ipykernel_96641/4273556419.py:8: FutureWarning: The default dtype for empty Series will be 'object' instead of 'float64' in a future version. Specify a dtype explicitly to silence this warning.\n",
      "  new_pval = pd.Series(index=excluded)\n",
      "/var/folders/dt/6wlrtxmd13nfmwf1shtvq5t40000gq/T/ipykernel_96641/4273556419.py:8: FutureWarning: The default dtype for empty Series will be 'object' instead of 'float64' in a future version. Specify a dtype explicitly to silence this warning.\n",
      "  new_pval = pd.Series(index=excluded)\n",
      "/var/folders/dt/6wlrtxmd13nfmwf1shtvq5t40000gq/T/ipykernel_96641/4273556419.py:8: FutureWarning: The default dtype for empty Series will be 'object' instead of 'float64' in a future version. Specify a dtype explicitly to silence this warning.\n",
      "  new_pval = pd.Series(index=excluded)\n",
      "/var/folders/dt/6wlrtxmd13nfmwf1shtvq5t40000gq/T/ipykernel_96641/4273556419.py:8: FutureWarning: The default dtype for empty Series will be 'object' instead of 'float64' in a future version. Specify a dtype explicitly to silence this warning.\n",
      "  new_pval = pd.Series(index=excluded)\n",
      "/var/folders/dt/6wlrtxmd13nfmwf1shtvq5t40000gq/T/ipykernel_96641/4273556419.py:8: FutureWarning: The default dtype for empty Series will be 'object' instead of 'float64' in a future version. Specify a dtype explicitly to silence this warning.\n",
      "  new_pval = pd.Series(index=excluded)\n",
      "/var/folders/dt/6wlrtxmd13nfmwf1shtvq5t40000gq/T/ipykernel_96641/4273556419.py:8: FutureWarning: The default dtype for empty Series will be 'object' instead of 'float64' in a future version. Specify a dtype explicitly to silence this warning.\n",
      "  new_pval = pd.Series(index=excluded)\n"
     ]
    }
   ],
   "source": [
    "def forward_regression(X, y, initial_list=[], threshold_in=0.01, threshold_out=0.05, verbose=True):\n",
    "    included = list(initial_list)\n",
    "    \n",
    "    while True:\n",
    "        changed = False\n",
    "        # Forward step\n",
    "        excluded = list(set(X.columns) - set(included))\n",
    "        new_pval = pd.Series(index=excluded)\n",
    "        \n",
    "        for new_column in excluded:\n",
    "            model = sm.OLS(y, sm.add_constant(pd.DataFrame(X[included + [new_column]]))).fit()\n",
    "            new_pval[new_column] = model.pvalues[new_column]\n",
    "        \n",
    "        best_pval = new_pval.min()\n",
    "        \n",
    "        if best_pval < threshold_in:\n",
    "            best_feature = new_pval.idxmin()\n",
    "            included.append(best_feature)\n",
    "            changed = True\n",
    "            if verbose:\n",
    "                print('Add {} with p-value {:.6f}'.format(best_feature, best_pval))\n",
    "\n",
    "        if not changed:\n",
    "            break\n",
    "\n",
    "    return included\n",
    "\n",
    "# Assuming you have X_train and y_train as your dataframes\n",
    "# Make sure to import pandas and statsmodels.api before running the code\n",
    "result = forward_regression(X_train, y_train)\n",
    "print(\"Selected features:\", result)"
   ]
  },
  {
   "cell_type": "markdown",
   "metadata": {},
   "source": [
    "## RFE"
   ]
  },
  {
   "cell_type": "code",
   "execution_count": 32,
   "metadata": {},
   "outputs": [
    {
     "name": "stdout",
     "output_type": "stream",
     "text": [
      "Selected Features:\n",
      "                  0  Ranking\n",
      "0            Status        1\n",
      "1         Geography        1\n",
      "2  Higher_Education        1\n",
      "3            Matric        1\n",
      "4            Gender        1\n"
     ]
    }
   ],
   "source": [
    "# Assuming you have X_train and y_train as your dataframes\n",
    "X = X_train\n",
    "y = y_train\n",
    "\n",
    "# Create a DataFrame to store the column names of the feature matrix X_train\n",
    "names = pd.DataFrame(X_train.columns)\n",
    "\n",
    "# Use Linear Regression as the model\n",
    "lin_reg = LinearRegression()\n",
    "\n",
    "# Number of variables to select (change this number as needed)\n",
    "num_features_to_select = 5\n",
    "\n",
    "# Initialize RFE with the Linear Regression estimator and the desired number of features to select\n",
    "rfe_mod = RFE(lin_reg, n_features_to_select=num_features_to_select, step=1)\n",
    "\n",
    "# Fit the RFE model on the data\n",
    "myvalues = rfe_mod.fit(X, y)\n",
    "\n",
    "# The mask of selected features (True indicates the selected feature)\n",
    "selected_features_mask = myvalues.support_\n",
    "\n",
    "# The feature ranking, where ranking_[i] corresponds to the ranking position of the i-th feature.\n",
    "# Selected (i.e., estimated best) features are assigned rank 1.\n",
    "feature_rankings = myvalues.ranking_\n",
    "\n",
    "# Store the rankings in a DataFrame\n",
    "rankings = pd.DataFrame(feature_rankings, columns=['Ranking'])\n",
    "\n",
    "# Concatenate the column names with their corresponding rankings\n",
    "rankings_with_names = pd.concat([names, rankings], axis=1)\n",
    "\n",
    "# Filter the DataFrame to show only the selected features (rank 1)\n",
    "selected_features = rankings_with_names[rankings_with_names['Ranking'] == 1]\n",
    "\n",
    "# Print the selected features\n",
    "print(\"Selected Features:\")\n",
    "print(selected_features)"
   ]
  },
  {
   "cell_type": "markdown",
   "metadata": {},
   "source": [
    "# Modelling"
   ]
  },
  {
   "cell_type": "markdown",
   "metadata": {},
   "source": [
    "### Ridge Classifier"
   ]
  },
  {
   "cell_type": "code",
   "execution_count": 33,
   "metadata": {},
   "outputs": [
    {
     "data": {
      "text/html": [
       "<style>#sk-container-id-1 {color: black;background-color: white;}#sk-container-id-1 pre{padding: 0;}#sk-container-id-1 div.sk-toggleable {background-color: white;}#sk-container-id-1 label.sk-toggleable__label {cursor: pointer;display: block;width: 100%;margin-bottom: 0;padding: 0.3em;box-sizing: border-box;text-align: center;}#sk-container-id-1 label.sk-toggleable__label-arrow:before {content: \"▸\";float: left;margin-right: 0.25em;color: #696969;}#sk-container-id-1 label.sk-toggleable__label-arrow:hover:before {color: black;}#sk-container-id-1 div.sk-estimator:hover label.sk-toggleable__label-arrow:before {color: black;}#sk-container-id-1 div.sk-toggleable__content {max-height: 0;max-width: 0;overflow: hidden;text-align: left;background-color: #f0f8ff;}#sk-container-id-1 div.sk-toggleable__content pre {margin: 0.2em;color: black;border-radius: 0.25em;background-color: #f0f8ff;}#sk-container-id-1 input.sk-toggleable__control:checked~div.sk-toggleable__content {max-height: 200px;max-width: 100%;overflow: auto;}#sk-container-id-1 input.sk-toggleable__control:checked~label.sk-toggleable__label-arrow:before {content: \"▾\";}#sk-container-id-1 div.sk-estimator input.sk-toggleable__control:checked~label.sk-toggleable__label {background-color: #d4ebff;}#sk-container-id-1 div.sk-label input.sk-toggleable__control:checked~label.sk-toggleable__label {background-color: #d4ebff;}#sk-container-id-1 input.sk-hidden--visually {border: 0;clip: rect(1px 1px 1px 1px);clip: rect(1px, 1px, 1px, 1px);height: 1px;margin: -1px;overflow: hidden;padding: 0;position: absolute;width: 1px;}#sk-container-id-1 div.sk-estimator {font-family: monospace;background-color: #f0f8ff;border: 1px dotted black;border-radius: 0.25em;box-sizing: border-box;margin-bottom: 0.5em;}#sk-container-id-1 div.sk-estimator:hover {background-color: #d4ebff;}#sk-container-id-1 div.sk-parallel-item::after {content: \"\";width: 100%;border-bottom: 1px solid gray;flex-grow: 1;}#sk-container-id-1 div.sk-label:hover label.sk-toggleable__label {background-color: #d4ebff;}#sk-container-id-1 div.sk-serial::before {content: \"\";position: absolute;border-left: 1px solid gray;box-sizing: border-box;top: 0;bottom: 0;left: 50%;z-index: 0;}#sk-container-id-1 div.sk-serial {display: flex;flex-direction: column;align-items: center;background-color: white;padding-right: 0.2em;padding-left: 0.2em;position: relative;}#sk-container-id-1 div.sk-item {position: relative;z-index: 1;}#sk-container-id-1 div.sk-parallel {display: flex;align-items: stretch;justify-content: center;background-color: white;position: relative;}#sk-container-id-1 div.sk-item::before, #sk-container-id-1 div.sk-parallel-item::before {content: \"\";position: absolute;border-left: 1px solid gray;box-sizing: border-box;top: 0;bottom: 0;left: 50%;z-index: -1;}#sk-container-id-1 div.sk-parallel-item {display: flex;flex-direction: column;z-index: 1;position: relative;background-color: white;}#sk-container-id-1 div.sk-parallel-item:first-child::after {align-self: flex-end;width: 50%;}#sk-container-id-1 div.sk-parallel-item:last-child::after {align-self: flex-start;width: 50%;}#sk-container-id-1 div.sk-parallel-item:only-child::after {width: 0;}#sk-container-id-1 div.sk-dashed-wrapped {border: 1px dashed gray;margin: 0 0.4em 0.5em 0.4em;box-sizing: border-box;padding-bottom: 0.4em;background-color: white;}#sk-container-id-1 div.sk-label label {font-family: monospace;font-weight: bold;display: inline-block;line-height: 1.2em;}#sk-container-id-1 div.sk-label-container {text-align: center;}#sk-container-id-1 div.sk-container {/* jupyter's `normalize.less` sets `[hidden] { display: none; }` but bootstrap.min.css set `[hidden] { display: none !important; }` so we also need the `!important` here to be able to override the default hidden behavior on the sphinx rendered scikit-learn.org. See: https://github.com/scikit-learn/scikit-learn/issues/21755 */display: inline-block !important;position: relative;}#sk-container-id-1 div.sk-text-repr-fallback {display: none;}</style><div id=\"sk-container-id-1\" class=\"sk-top-container\"><div class=\"sk-text-repr-fallback\"><pre>RidgeClassifier()</pre><b>In a Jupyter environment, please rerun this cell to show the HTML representation or trust the notebook. <br />On GitHub, the HTML representation is unable to render, please try loading this page with nbviewer.org.</b></div><div class=\"sk-container\" hidden><div class=\"sk-item\"><div class=\"sk-estimator sk-toggleable\"><input class=\"sk-toggleable__control sk-hidden--visually\" id=\"sk-estimator-id-1\" type=\"checkbox\" checked><label for=\"sk-estimator-id-1\" class=\"sk-toggleable__label sk-toggleable__label-arrow\">RidgeClassifier</label><div class=\"sk-toggleable__content\"><pre>RidgeClassifier()</pre></div></div></div></div></div>"
      ],
      "text/plain": [
       "RidgeClassifier()"
      ]
     },
     "execution_count": 33,
     "metadata": {},
     "output_type": "execute_result"
    }
   ],
   "source": [
    "rgc = RidgeClassifier()\n",
    "rgc"
   ]
  },
  {
   "cell_type": "code",
   "execution_count": 34,
   "metadata": {},
   "outputs": [
    {
     "data": {
      "text/plain": [
       "0.7782960199004975"
      ]
     },
     "execution_count": 34,
     "metadata": {},
     "output_type": "execute_result"
    }
   ],
   "source": [
    "rgc.fit(X_train, y_train)\n",
    "rgc.score(X_train, y_train)"
   ]
  },
  {
   "cell_type": "code",
   "execution_count": 35,
   "metadata": {},
   "outputs": [
    {
     "data": {
      "text/plain": [
       "array([0, 0, 0, ..., 0, 0, 0])"
      ]
     },
     "execution_count": 35,
     "metadata": {},
     "output_type": "execute_result"
    }
   ],
   "source": [
    "rgc.predict(X_train)"
   ]
  },
  {
   "cell_type": "markdown",
   "metadata": {},
   "source": [
    "## Decision Tree Classifier"
   ]
  },
  {
   "cell_type": "code",
   "execution_count": 36,
   "metadata": {},
   "outputs": [
    {
     "data": {
      "text/html": [
       "<style>#sk-container-id-2 {color: black;background-color: white;}#sk-container-id-2 pre{padding: 0;}#sk-container-id-2 div.sk-toggleable {background-color: white;}#sk-container-id-2 label.sk-toggleable__label {cursor: pointer;display: block;width: 100%;margin-bottom: 0;padding: 0.3em;box-sizing: border-box;text-align: center;}#sk-container-id-2 label.sk-toggleable__label-arrow:before {content: \"▸\";float: left;margin-right: 0.25em;color: #696969;}#sk-container-id-2 label.sk-toggleable__label-arrow:hover:before {color: black;}#sk-container-id-2 div.sk-estimator:hover label.sk-toggleable__label-arrow:before {color: black;}#sk-container-id-2 div.sk-toggleable__content {max-height: 0;max-width: 0;overflow: hidden;text-align: left;background-color: #f0f8ff;}#sk-container-id-2 div.sk-toggleable__content pre {margin: 0.2em;color: black;border-radius: 0.25em;background-color: #f0f8ff;}#sk-container-id-2 input.sk-toggleable__control:checked~div.sk-toggleable__content {max-height: 200px;max-width: 100%;overflow: auto;}#sk-container-id-2 input.sk-toggleable__control:checked~label.sk-toggleable__label-arrow:before {content: \"▾\";}#sk-container-id-2 div.sk-estimator input.sk-toggleable__control:checked~label.sk-toggleable__label {background-color: #d4ebff;}#sk-container-id-2 div.sk-label input.sk-toggleable__control:checked~label.sk-toggleable__label {background-color: #d4ebff;}#sk-container-id-2 input.sk-hidden--visually {border: 0;clip: rect(1px 1px 1px 1px);clip: rect(1px, 1px, 1px, 1px);height: 1px;margin: -1px;overflow: hidden;padding: 0;position: absolute;width: 1px;}#sk-container-id-2 div.sk-estimator {font-family: monospace;background-color: #f0f8ff;border: 1px dotted black;border-radius: 0.25em;box-sizing: border-box;margin-bottom: 0.5em;}#sk-container-id-2 div.sk-estimator:hover {background-color: #d4ebff;}#sk-container-id-2 div.sk-parallel-item::after {content: \"\";width: 100%;border-bottom: 1px solid gray;flex-grow: 1;}#sk-container-id-2 div.sk-label:hover label.sk-toggleable__label {background-color: #d4ebff;}#sk-container-id-2 div.sk-serial::before {content: \"\";position: absolute;border-left: 1px solid gray;box-sizing: border-box;top: 0;bottom: 0;left: 50%;z-index: 0;}#sk-container-id-2 div.sk-serial {display: flex;flex-direction: column;align-items: center;background-color: white;padding-right: 0.2em;padding-left: 0.2em;position: relative;}#sk-container-id-2 div.sk-item {position: relative;z-index: 1;}#sk-container-id-2 div.sk-parallel {display: flex;align-items: stretch;justify-content: center;background-color: white;position: relative;}#sk-container-id-2 div.sk-item::before, #sk-container-id-2 div.sk-parallel-item::before {content: \"\";position: absolute;border-left: 1px solid gray;box-sizing: border-box;top: 0;bottom: 0;left: 50%;z-index: -1;}#sk-container-id-2 div.sk-parallel-item {display: flex;flex-direction: column;z-index: 1;position: relative;background-color: white;}#sk-container-id-2 div.sk-parallel-item:first-child::after {align-self: flex-end;width: 50%;}#sk-container-id-2 div.sk-parallel-item:last-child::after {align-self: flex-start;width: 50%;}#sk-container-id-2 div.sk-parallel-item:only-child::after {width: 0;}#sk-container-id-2 div.sk-dashed-wrapped {border: 1px dashed gray;margin: 0 0.4em 0.5em 0.4em;box-sizing: border-box;padding-bottom: 0.4em;background-color: white;}#sk-container-id-2 div.sk-label label {font-family: monospace;font-weight: bold;display: inline-block;line-height: 1.2em;}#sk-container-id-2 div.sk-label-container {text-align: center;}#sk-container-id-2 div.sk-container {/* jupyter's `normalize.less` sets `[hidden] { display: none; }` but bootstrap.min.css set `[hidden] { display: none !important; }` so we also need the `!important` here to be able to override the default hidden behavior on the sphinx rendered scikit-learn.org. See: https://github.com/scikit-learn/scikit-learn/issues/21755 */display: inline-block !important;position: relative;}#sk-container-id-2 div.sk-text-repr-fallback {display: none;}</style><div id=\"sk-container-id-2\" class=\"sk-top-container\"><div class=\"sk-text-repr-fallback\"><pre>DecisionTreeClassifier()</pre><b>In a Jupyter environment, please rerun this cell to show the HTML representation or trust the notebook. <br />On GitHub, the HTML representation is unable to render, please try loading this page with nbviewer.org.</b></div><div class=\"sk-container\" hidden><div class=\"sk-item\"><div class=\"sk-estimator sk-toggleable\"><input class=\"sk-toggleable__control sk-hidden--visually\" id=\"sk-estimator-id-2\" type=\"checkbox\" checked><label for=\"sk-estimator-id-2\" class=\"sk-toggleable__label sk-toggleable__label-arrow\">DecisionTreeClassifier</label><div class=\"sk-toggleable__content\"><pre>DecisionTreeClassifier()</pre></div></div></div></div></div>"
      ],
      "text/plain": [
       "DecisionTreeClassifier()"
      ]
     },
     "execution_count": 36,
     "metadata": {},
     "output_type": "execute_result"
    }
   ],
   "source": [
    "dtc = DecisionTreeClassifier()\n",
    "dtc"
   ]
  },
  {
   "cell_type": "code",
   "execution_count": 37,
   "metadata": {},
   "outputs": [
    {
     "data": {
      "text/plain": [
       "0.8109452736318408"
      ]
     },
     "execution_count": 37,
     "metadata": {},
     "output_type": "execute_result"
    }
   ],
   "source": [
    "dtc.fit(X_train, y_train)\n",
    "dtc.score(X_train, y_train)"
   ]
  },
  {
   "cell_type": "code",
   "execution_count": 38,
   "metadata": {},
   "outputs": [
    {
     "data": {
      "text/plain": [
       "array([0, 0, 1, ..., 0, 0, 0])"
      ]
     },
     "execution_count": 38,
     "metadata": {},
     "output_type": "execute_result"
    }
   ],
   "source": [
    "dtc.predict(X_train)"
   ]
  },
  {
   "cell_type": "markdown",
   "metadata": {},
   "source": [
    "## Random Forest Classifier"
   ]
  },
  {
   "cell_type": "code",
   "execution_count": 39,
   "metadata": {},
   "outputs": [
    {
     "data": {
      "text/html": [
       "<style>#sk-container-id-3 {color: black;background-color: white;}#sk-container-id-3 pre{padding: 0;}#sk-container-id-3 div.sk-toggleable {background-color: white;}#sk-container-id-3 label.sk-toggleable__label {cursor: pointer;display: block;width: 100%;margin-bottom: 0;padding: 0.3em;box-sizing: border-box;text-align: center;}#sk-container-id-3 label.sk-toggleable__label-arrow:before {content: \"▸\";float: left;margin-right: 0.25em;color: #696969;}#sk-container-id-3 label.sk-toggleable__label-arrow:hover:before {color: black;}#sk-container-id-3 div.sk-estimator:hover label.sk-toggleable__label-arrow:before {color: black;}#sk-container-id-3 div.sk-toggleable__content {max-height: 0;max-width: 0;overflow: hidden;text-align: left;background-color: #f0f8ff;}#sk-container-id-3 div.sk-toggleable__content pre {margin: 0.2em;color: black;border-radius: 0.25em;background-color: #f0f8ff;}#sk-container-id-3 input.sk-toggleable__control:checked~div.sk-toggleable__content {max-height: 200px;max-width: 100%;overflow: auto;}#sk-container-id-3 input.sk-toggleable__control:checked~label.sk-toggleable__label-arrow:before {content: \"▾\";}#sk-container-id-3 div.sk-estimator input.sk-toggleable__control:checked~label.sk-toggleable__label {background-color: #d4ebff;}#sk-container-id-3 div.sk-label input.sk-toggleable__control:checked~label.sk-toggleable__label {background-color: #d4ebff;}#sk-container-id-3 input.sk-hidden--visually {border: 0;clip: rect(1px 1px 1px 1px);clip: rect(1px, 1px, 1px, 1px);height: 1px;margin: -1px;overflow: hidden;padding: 0;position: absolute;width: 1px;}#sk-container-id-3 div.sk-estimator {font-family: monospace;background-color: #f0f8ff;border: 1px dotted black;border-radius: 0.25em;box-sizing: border-box;margin-bottom: 0.5em;}#sk-container-id-3 div.sk-estimator:hover {background-color: #d4ebff;}#sk-container-id-3 div.sk-parallel-item::after {content: \"\";width: 100%;border-bottom: 1px solid gray;flex-grow: 1;}#sk-container-id-3 div.sk-label:hover label.sk-toggleable__label {background-color: #d4ebff;}#sk-container-id-3 div.sk-serial::before {content: \"\";position: absolute;border-left: 1px solid gray;box-sizing: border-box;top: 0;bottom: 0;left: 50%;z-index: 0;}#sk-container-id-3 div.sk-serial {display: flex;flex-direction: column;align-items: center;background-color: white;padding-right: 0.2em;padding-left: 0.2em;position: relative;}#sk-container-id-3 div.sk-item {position: relative;z-index: 1;}#sk-container-id-3 div.sk-parallel {display: flex;align-items: stretch;justify-content: center;background-color: white;position: relative;}#sk-container-id-3 div.sk-item::before, #sk-container-id-3 div.sk-parallel-item::before {content: \"\";position: absolute;border-left: 1px solid gray;box-sizing: border-box;top: 0;bottom: 0;left: 50%;z-index: -1;}#sk-container-id-3 div.sk-parallel-item {display: flex;flex-direction: column;z-index: 1;position: relative;background-color: white;}#sk-container-id-3 div.sk-parallel-item:first-child::after {align-self: flex-end;width: 50%;}#sk-container-id-3 div.sk-parallel-item:last-child::after {align-self: flex-start;width: 50%;}#sk-container-id-3 div.sk-parallel-item:only-child::after {width: 0;}#sk-container-id-3 div.sk-dashed-wrapped {border: 1px dashed gray;margin: 0 0.4em 0.5em 0.4em;box-sizing: border-box;padding-bottom: 0.4em;background-color: white;}#sk-container-id-3 div.sk-label label {font-family: monospace;font-weight: bold;display: inline-block;line-height: 1.2em;}#sk-container-id-3 div.sk-label-container {text-align: center;}#sk-container-id-3 div.sk-container {/* jupyter's `normalize.less` sets `[hidden] { display: none; }` but bootstrap.min.css set `[hidden] { display: none !important; }` so we also need the `!important` here to be able to override the default hidden behavior on the sphinx rendered scikit-learn.org. See: https://github.com/scikit-learn/scikit-learn/issues/21755 */display: inline-block !important;position: relative;}#sk-container-id-3 div.sk-text-repr-fallback {display: none;}</style><div id=\"sk-container-id-3\" class=\"sk-top-container\"><div class=\"sk-text-repr-fallback\"><pre>RandomForestClassifier(max_depth=20, n_estimators=300, random_state=767)</pre><b>In a Jupyter environment, please rerun this cell to show the HTML representation or trust the notebook. <br />On GitHub, the HTML representation is unable to render, please try loading this page with nbviewer.org.</b></div><div class=\"sk-container\" hidden><div class=\"sk-item\"><div class=\"sk-estimator sk-toggleable\"><input class=\"sk-toggleable__control sk-hidden--visually\" id=\"sk-estimator-id-3\" type=\"checkbox\" checked><label for=\"sk-estimator-id-3\" class=\"sk-toggleable__label sk-toggleable__label-arrow\">RandomForestClassifier</label><div class=\"sk-toggleable__content\"><pre>RandomForestClassifier(max_depth=20, n_estimators=300, random_state=767)</pre></div></div></div></div></div>"
      ],
      "text/plain": [
       "RandomForestClassifier(max_depth=20, n_estimators=300, random_state=767)"
      ]
     },
     "execution_count": 39,
     "metadata": {},
     "output_type": "execute_result"
    }
   ],
   "source": [
    "rfc = RandomForestClassifier(max_depth=20, random_state=767, n_estimators=300)\n",
    "rfc"
   ]
  },
  {
   "cell_type": "code",
   "execution_count": 40,
   "metadata": {},
   "outputs": [
    {
     "data": {
      "text/plain": [
       "0.8109452736318408"
      ]
     },
     "execution_count": 40,
     "metadata": {},
     "output_type": "execute_result"
    }
   ],
   "source": [
    "rfc.fit(X_train, y_train)\n",
    "rfc.score(X_train, y_train)"
   ]
  },
  {
   "cell_type": "code",
   "execution_count": 41,
   "metadata": {},
   "outputs": [
    {
     "data": {
      "text/plain": [
       "array([0, 0, 1, ..., 0, 0, 0])"
      ]
     },
     "execution_count": 41,
     "metadata": {},
     "output_type": "execute_result"
    }
   ],
   "source": [
    "rfc.predict(X_train)"
   ]
  },
  {
   "cell_type": "markdown",
   "metadata": {},
   "source": [
    "# Export Models"
   ]
  },
  {
   "cell_type": "code",
   "execution_count": 42,
   "metadata": {},
   "outputs": [
    {
     "name": "stdout",
     "output_type": "stream",
     "text": [
      "Ridge Classifier model saved as RidgeClassifier.pkl successfully.\n",
      "Decision Tree model saved as DecisionTreeClassifier.pkl successfully.\n",
      "Random Forest model saved as RandomForestClassifier.pkl successfully.\n"
     ]
    }
   ],
   "source": [
    "# Specify the file path where you want to save each model\n",
    "ridge_classifier_file = 'RidgeClassifier.pkl'\n",
    "decision_tree_file = 'DecisionTreeClassifier.pkl'\n",
    "random_forest_file = 'RandomForestClassifier.pkl'\n",
    "\n",
    "# Save each model as a pickle file\n",
    "try:\n",
    "    with open(ridge_classifier_file, 'wb') as file:\n",
    "        pickle.dump(rgc, file)\n",
    "    print(f\"Ridge Classifier model saved as {ridge_classifier_file} successfully.\")\n",
    "\n",
    "    with open(decision_tree_file, 'wb') as file:\n",
    "        pickle.dump(dtc, file)\n",
    "    print(f\"Decision Tree model saved as {decision_tree_file} successfully.\")\n",
    "\n",
    "    with open(random_forest_file, 'wb') as file:\n",
    "        pickle.dump(rfc, file)\n",
    "    print(f\"Random Forest model saved as {random_forest_file} successfully.\")\n",
    "\n",
    "except Exception as e:\n",
    "    print(f\"Error saving the model: {str(e)}\")"
   ]
  },
  {
   "cell_type": "code",
   "execution_count": 43,
   "metadata": {},
   "outputs": [
    {
     "data": {
      "text/html": [
       "<div>\n",
       "<style scoped>\n",
       "    .dataframe tbody tr th:only-of-type {\n",
       "        vertical-align: middle;\n",
       "    }\n",
       "\n",
       "    .dataframe tbody tr th {\n",
       "        vertical-align: top;\n",
       "    }\n",
       "\n",
       "    .dataframe thead th {\n",
       "        text-align: right;\n",
       "    }\n",
       "</style>\n",
       "<table border=\"1\" class=\"dataframe\">\n",
       "  <thead>\n",
       "    <tr style=\"text-align: right;\">\n",
       "      <th></th>\n",
       "      <th>Status</th>\n",
       "      <th>Geography</th>\n",
       "      <th>Higher_Education</th>\n",
       "      <th>Matric</th>\n",
       "      <th>Gender</th>\n",
       "    </tr>\n",
       "  </thead>\n",
       "  <tbody>\n",
       "    <tr>\n",
       "      <th>3962</th>\n",
       "      <td>3</td>\n",
       "      <td>2</td>\n",
       "      <td>0</td>\n",
       "      <td>1</td>\n",
       "      <td>0</td>\n",
       "    </tr>\n",
       "    <tr>\n",
       "      <th>2663</th>\n",
       "      <td>6</td>\n",
       "      <td>2</td>\n",
       "      <td>0</td>\n",
       "      <td>1</td>\n",
       "      <td>1</td>\n",
       "    </tr>\n",
       "    <tr>\n",
       "      <th>3292</th>\n",
       "      <td>3</td>\n",
       "      <td>0</td>\n",
       "      <td>1</td>\n",
       "      <td>1</td>\n",
       "      <td>1</td>\n",
       "    </tr>\n",
       "    <tr>\n",
       "      <th>3866</th>\n",
       "      <td>3</td>\n",
       "      <td>2</td>\n",
       "      <td>0</td>\n",
       "      <td>1</td>\n",
       "      <td>1</td>\n",
       "    </tr>\n",
       "    <tr>\n",
       "      <th>1417</th>\n",
       "      <td>4</td>\n",
       "      <td>2</td>\n",
       "      <td>0</td>\n",
       "      <td>0</td>\n",
       "      <td>0</td>\n",
       "    </tr>\n",
       "    <tr>\n",
       "      <th>...</th>\n",
       "      <td>...</td>\n",
       "      <td>...</td>\n",
       "      <td>...</td>\n",
       "      <td>...</td>\n",
       "      <td>...</td>\n",
       "    </tr>\n",
       "    <tr>\n",
       "      <th>1130</th>\n",
       "      <td>4</td>\n",
       "      <td>2</td>\n",
       "      <td>0</td>\n",
       "      <td>0</td>\n",
       "      <td>1</td>\n",
       "    </tr>\n",
       "    <tr>\n",
       "      <th>1294</th>\n",
       "      <td>3</td>\n",
       "      <td>0</td>\n",
       "      <td>0</td>\n",
       "      <td>1</td>\n",
       "      <td>1</td>\n",
       "    </tr>\n",
       "    <tr>\n",
       "      <th>860</th>\n",
       "      <td>4</td>\n",
       "      <td>2</td>\n",
       "      <td>0</td>\n",
       "      <td>1</td>\n",
       "      <td>0</td>\n",
       "    </tr>\n",
       "    <tr>\n",
       "      <th>3507</th>\n",
       "      <td>6</td>\n",
       "      <td>2</td>\n",
       "      <td>0</td>\n",
       "      <td>0</td>\n",
       "      <td>0</td>\n",
       "    </tr>\n",
       "    <tr>\n",
       "      <th>3174</th>\n",
       "      <td>4</td>\n",
       "      <td>1</td>\n",
       "      <td>1</td>\n",
       "      <td>1</td>\n",
       "      <td>0</td>\n",
       "    </tr>\n",
       "  </tbody>\n",
       "</table>\n",
       "<p>3216 rows × 5 columns</p>\n",
       "</div>"
      ],
      "text/plain": [
       "      Status  Geography  Higher_Education  Matric  Gender\n",
       "3962       3          2                 0       1       0\n",
       "2663       6          2                 0       1       1\n",
       "3292       3          0                 1       1       1\n",
       "3866       3          2                 0       1       1\n",
       "1417       4          2                 0       0       0\n",
       "...      ...        ...               ...     ...     ...\n",
       "1130       4          2                 0       0       1\n",
       "1294       3          0                 0       1       1\n",
       "860        4          2                 0       1       0\n",
       "3507       6          2                 0       0       0\n",
       "3174       4          1                 1       1       0\n",
       "\n",
       "[3216 rows x 5 columns]"
      ]
     },
     "execution_count": 43,
     "metadata": {},
     "output_type": "execute_result"
    }
   ],
   "source": [
    "X"
   ]
  },
  {
   "cell_type": "code",
   "execution_count": 44,
   "metadata": {},
   "outputs": [
    {
     "data": {
      "text/plain": [
       "1    1826\n",
       "0    1390\n",
       "Name: Gender, dtype: int64"
      ]
     },
     "execution_count": 44,
     "metadata": {},
     "output_type": "execute_result"
    }
   ],
   "source": [
    "X['Gender'].value_counts()"
   ]
  },
  {
   "cell_type": "code",
   "execution_count": 45,
   "metadata": {},
   "outputs": [
    {
     "data": {
      "text/plain": [
       "4    1398\n",
       "3     772\n",
       "6     631\n",
       "1     227\n",
       "2     158\n",
       "0      23\n",
       "5       7\n",
       "Name: Status, dtype: int64"
      ]
     },
     "execution_count": 45,
     "metadata": {},
     "output_type": "execute_result"
    }
   ],
   "source": [
    "X['Status'].value_counts()"
   ]
  },
  {
   "cell_type": "code",
   "execution_count": 46,
   "metadata": {},
   "outputs": [
    {
     "data": {
      "text/plain": [
       "2    2264\n",
       "0     611\n",
       "1     341\n",
       "Name: Geography, dtype: int64"
      ]
     },
     "execution_count": 46,
     "metadata": {},
     "output_type": "execute_result"
    }
   ],
   "source": [
    "X['Geography'].value_counts()"
   ]
  },
  {
   "cell_type": "code",
   "execution_count": 47,
   "metadata": {},
   "outputs": [
    {
     "data": {
      "text/plain": [
       "0    2944\n",
       "1     272\n",
       "Name: Higher_Education, dtype: int64"
      ]
     },
     "execution_count": 47,
     "metadata": {},
     "output_type": "execute_result"
    }
   ],
   "source": [
    "X['Higher_Education'].value_counts()"
   ]
  },
  {
   "cell_type": "code",
   "execution_count": 48,
   "metadata": {},
   "outputs": [
    {
     "ename": "KeyError",
     "evalue": "'Schoolquintile'",
     "output_type": "error",
     "traceback": [
      "\u001b[0;31m---------------------------------------------------------------------------\u001b[0m",
      "\u001b[0;31mKeyError\u001b[0m                                  Traceback (most recent call last)",
      "File \u001b[0;32m~/anaconda3/lib/python3.10/site-packages/pandas/core/indexes/base.py:3802\u001b[0m, in \u001b[0;36mIndex.get_loc\u001b[0;34m(self, key, method, tolerance)\u001b[0m\n\u001b[1;32m   3801\u001b[0m \u001b[39mtry\u001b[39;00m:\n\u001b[0;32m-> 3802\u001b[0m     \u001b[39mreturn\u001b[39;00m \u001b[39mself\u001b[39;49m\u001b[39m.\u001b[39;49m_engine\u001b[39m.\u001b[39;49mget_loc(casted_key)\n\u001b[1;32m   3803\u001b[0m \u001b[39mexcept\u001b[39;00m \u001b[39mKeyError\u001b[39;00m \u001b[39mas\u001b[39;00m err:\n",
      "File \u001b[0;32m~/anaconda3/lib/python3.10/site-packages/pandas/_libs/index.pyx:138\u001b[0m, in \u001b[0;36mpandas._libs.index.IndexEngine.get_loc\u001b[0;34m()\u001b[0m\n",
      "File \u001b[0;32m~/anaconda3/lib/python3.10/site-packages/pandas/_libs/index.pyx:165\u001b[0m, in \u001b[0;36mpandas._libs.index.IndexEngine.get_loc\u001b[0;34m()\u001b[0m\n",
      "File \u001b[0;32mpandas/_libs/hashtable_class_helper.pxi:5745\u001b[0m, in \u001b[0;36mpandas._libs.hashtable.PyObjectHashTable.get_item\u001b[0;34m()\u001b[0m\n",
      "File \u001b[0;32mpandas/_libs/hashtable_class_helper.pxi:5753\u001b[0m, in \u001b[0;36mpandas._libs.hashtable.PyObjectHashTable.get_item\u001b[0;34m()\u001b[0m\n",
      "\u001b[0;31mKeyError\u001b[0m: 'Schoolquintile'",
      "\nThe above exception was the direct cause of the following exception:\n",
      "\u001b[0;31mKeyError\u001b[0m                                  Traceback (most recent call last)",
      "Cell \u001b[0;32mIn[48], line 1\u001b[0m\n\u001b[0;32m----> 1\u001b[0m X[\u001b[39m'\u001b[39;49m\u001b[39mSchoolquintile\u001b[39;49m\u001b[39m'\u001b[39;49m]\u001b[39m.\u001b[39mvalue_counts()\n",
      "File \u001b[0;32m~/anaconda3/lib/python3.10/site-packages/pandas/core/frame.py:3807\u001b[0m, in \u001b[0;36mDataFrame.__getitem__\u001b[0;34m(self, key)\u001b[0m\n\u001b[1;32m   3805\u001b[0m \u001b[39mif\u001b[39;00m \u001b[39mself\u001b[39m\u001b[39m.\u001b[39mcolumns\u001b[39m.\u001b[39mnlevels \u001b[39m>\u001b[39m \u001b[39m1\u001b[39m:\n\u001b[1;32m   3806\u001b[0m     \u001b[39mreturn\u001b[39;00m \u001b[39mself\u001b[39m\u001b[39m.\u001b[39m_getitem_multilevel(key)\n\u001b[0;32m-> 3807\u001b[0m indexer \u001b[39m=\u001b[39m \u001b[39mself\u001b[39;49m\u001b[39m.\u001b[39;49mcolumns\u001b[39m.\u001b[39;49mget_loc(key)\n\u001b[1;32m   3808\u001b[0m \u001b[39mif\u001b[39;00m is_integer(indexer):\n\u001b[1;32m   3809\u001b[0m     indexer \u001b[39m=\u001b[39m [indexer]\n",
      "File \u001b[0;32m~/anaconda3/lib/python3.10/site-packages/pandas/core/indexes/base.py:3804\u001b[0m, in \u001b[0;36mIndex.get_loc\u001b[0;34m(self, key, method, tolerance)\u001b[0m\n\u001b[1;32m   3802\u001b[0m     \u001b[39mreturn\u001b[39;00m \u001b[39mself\u001b[39m\u001b[39m.\u001b[39m_engine\u001b[39m.\u001b[39mget_loc(casted_key)\n\u001b[1;32m   3803\u001b[0m \u001b[39mexcept\u001b[39;00m \u001b[39mKeyError\u001b[39;00m \u001b[39mas\u001b[39;00m err:\n\u001b[0;32m-> 3804\u001b[0m     \u001b[39mraise\u001b[39;00m \u001b[39mKeyError\u001b[39;00m(key) \u001b[39mfrom\u001b[39;00m \u001b[39merr\u001b[39;00m\n\u001b[1;32m   3805\u001b[0m \u001b[39mexcept\u001b[39;00m \u001b[39mTypeError\u001b[39;00m:\n\u001b[1;32m   3806\u001b[0m     \u001b[39m# If we have a listlike key, _check_indexing_error will raise\u001b[39;00m\n\u001b[1;32m   3807\u001b[0m     \u001b[39m#  InvalidIndexError. Otherwise we fall through and re-raise\u001b[39;00m\n\u001b[1;32m   3808\u001b[0m     \u001b[39m#  the TypeError.\u001b[39;00m\n\u001b[1;32m   3809\u001b[0m     \u001b[39mself\u001b[39m\u001b[39m.\u001b[39m_check_indexing_error(key)\n",
      "\u001b[0;31mKeyError\u001b[0m: 'Schoolquintile'"
     ]
    }
   ],
   "source": [
    "X['Schoolquintile'].value_counts()"
   ]
  },
  {
   "cell_type": "code",
   "execution_count": null,
   "metadata": {},
   "outputs": [],
   "source": []
  }
 ],
 "metadata": {
  "kernelspec": {
   "display_name": "base",
   "language": "python",
   "name": "python3"
  },
  "language_info": {
   "codemirror_mode": {
    "name": "ipython",
    "version": 3
   },
   "file_extension": ".py",
   "mimetype": "text/x-python",
   "name": "python",
   "nbconvert_exporter": "python",
   "pygments_lexer": "ipython3",
   "version": "3.10.9"
  },
  "orig_nbformat": 4
 },
 "nbformat": 4,
 "nbformat_minor": 2
}
